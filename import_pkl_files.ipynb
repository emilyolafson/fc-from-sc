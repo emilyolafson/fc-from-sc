{
 "cells": [
  {
   "cell_type": "code",
   "execution_count": 24,
   "metadata": {},
   "outputs": [
    {
     "name": "stdout",
     "output_type": "stream",
     "text": [
      "(86, 86)\n",
      "(86, 86)\n",
      "(86, 86)\n",
      "(86, 86)\n",
      "(86, 86)\n",
      "(86, 86)\n",
      "(86, 86)\n",
      "(86, 86)\n",
      "(86, 86)\n",
      "(86, 86)\n",
      "(86, 86)\n",
      "(86, 86)\n",
      "(86, 86)\n",
      "(86, 86)\n",
      "(86, 86)\n",
      "(86, 86)\n",
      "(86, 86)\n",
      "(86, 86)\n",
      "(86, 86)\n",
      "(86, 86)\n",
      "(86, 86)\n",
      "(86, 86)\n",
      "(86, 86)\n"
     ]
    }
   ],
   "source": [
    "import pickle\n",
    "import numpy as np\n",
    "import scipy.io as sio\n",
    "import os\n",
    "\n",
    "for i in range(1,24):\n",
    "    with open('/Users/emilyolafson/GIT/fc-from-sc/subject_data/fs86_avg/SUB' + str(i) + '_lesion1mm_nemo_output_chacoconn_fs86avg_mean.pkl', 'r+b') as e:\n",
    "        data2 = pickle.load(e)\n",
    "        print(data2.shape)\n",
    "        sio.savemat('/Users/emilyolafson/GIT/fc-from-sc/subject_data/fs86_avg/SUB' + str(i) +'_lesion_1mmMNI_fs86subj_mean_chacoconn.mat', {'SUB'+str(i)+'chacoconn':data2})\n"
   ]
  },
  {
   "cell_type": "code",
   "execution_count": 21,
   "metadata": {},
   "outputs": [],
   "source": [
    "for i in range(1,24):\n",
    "    pklfile=str('/Users/emilyolafson/GIT/fc-from-sc/subject_data/fs86_subj/SUB'+str(i) + '_lesion1mm_nemo_output_chacoconn_fs86subj_allref_denom.pkl')\n",
    "    data=pickle.load(open(pklfile,\"rb\"))\n",
    "    allref=np.stack([x.toarray() for x in data],axis=2) #creates an ROIxROIx420 3D matrix\n",
    "    sio.savemat(pklfile.replace(\".pkl\",\".mat\"),{\"allref\":allref})"
   ]
  },
  {
   "cell_type": "code",
   "execution_count": 6,
   "metadata": {},
   "outputs": [
    {
     "name": "stdout",
     "output_type": "stream",
     "text": [
      "/Users/emilyolafson/GIT/fc-from-sc\n"
     ]
    }
   ],
   "source": [
    "cwd = os.getcwd()\n",
    "print(cwd)"
   ]
  }
 ],
 "metadata": {
  "kernelspec": {
   "display_name": "Python 3",
   "language": "python",
   "name": "python3"
  },
  "language_info": {
   "codemirror_mode": {
    "name": "ipython",
    "version": 3
   },
   "file_extension": ".py",
   "mimetype": "text/x-python",
   "name": "python",
   "nbconvert_exporter": "python",
   "pygments_lexer": "ipython3",
   "version": "3.8.5"
  }
 },
 "nbformat": 4,
 "nbformat_minor": 4
}
