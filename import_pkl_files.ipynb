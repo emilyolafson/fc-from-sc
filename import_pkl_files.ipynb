{
 "cells": [
  {
   "cell_type": "code",
   "execution_count": 8,
   "metadata": {},
   "outputs": [
    {
     "name": "stdout",
     "output_type": "stream",
     "text": [
      "(86, 86)\n",
      "(86, 86)\n",
      "(86, 86)\n",
      "(86, 86)\n",
      "(86, 86)\n",
      "(86, 86)\n",
      "(86, 86)\n",
      "(86, 86)\n",
      "(86, 86)\n",
      "(86, 86)\n",
      "(86, 86)\n",
      "(86, 86)\n",
      "(86, 86)\n",
      "(86, 86)\n",
      "(86, 86)\n",
      "(86, 86)\n",
      "(86, 86)\n",
      "(86, 86)\n",
      "(86, 86)\n",
      "(86, 86)\n",
      "(86, 86)\n",
      "(86, 86)\n",
      "(86, 86)\n"
     ]
    }
   ],
   "source": [
    "import pickle\n",
    "import numpy as np\n",
    "import scipy.io as sio\n",
    "import os\n",
    "\n",
    "for i in range(1,24):\n",
    "    with open('/Users/emilyolafson/GIT/fc-from-sc/subject_data/fs86_avg/SUB' + str(i) + '_lesion1mm_nemo_output_chacoconn_fs86avg_mean.pkl', 'r+b') as e:\n",
    "        data2 = pickle.load(e)\n",
    "        print(data2.shape)\n",
    "        sio.savemat('/Users/emilyolafson/GIT/fc-from-sc/subject_data/fs86_avg/SUB' + str(i) +'_lesion_1mmMNI_fs86subj_mean_chacoconn.mat', {'SUB'+str(i)+'chacoconn':data2})\n"
   ]
  },
  {
   "cell_type": "code",
   "execution_count": 6,
   "metadata": {},
   "outputs": [],
   "source": [
    "file=open('/Users/emilyolafson/GIT/fc-from-sc/subject_data/fs86_avg/SUB12_lesion1mm_nemo_output_chacoconn_fs86avg_allref_denom.pkl', 'r+b')\n",
    "data = pickle.load(file)\n",
    "sio.savemat('/Users/emilyolafson/GIT/fc-from-sc/subject_data/fs86_avg/allref_denom.mat', {'allref_denom':data})\n",
    "\n",
    "\n"
   ]
  },
  {
   "cell_type": "code",
   "execution_count": null,
   "metadata": {},
   "outputs": [],
   "source": [
    "pklfile='SUB10_lesion1mm_nemo_output_chacoconn_fs86avg_allref_denom.pkl'\n",
    "data=pickle.load(open(pklfile,\"rb\"))\n",
    "allref=np.stack([x.toarray() for x in data],axis=2) #creates an ROIxROIx420 3D matrix\n",
    "savemat(pklfile.replace(\".pkl\",\".mat\"),{\"allref\":allref})"
   ]
  },
  {
   "cell_type": "code",
   "execution_count": 17,
   "metadata": {},
   "outputs": [
    {
     "ename": "FileNotFoundError",
     "evalue": "[Errno 2] No such file or directory: 'SUB1_lesion1mm_nemo_output_chacoconn_fs86avg_allref_denom.pkl'",
     "output_type": "error",
     "traceback": [
      "\u001b[0;31m---------------------------------------------------------------------------\u001b[0m",
      "\u001b[0;31mFileNotFoundError\u001b[0m                         Traceback (most recent call last)",
      "\u001b[0;32m<ipython-input-17-50dd00f64a5b>\u001b[0m in \u001b[0;36m<module>\u001b[0;34m\u001b[0m\n\u001b[1;32m      1\u001b[0m \u001b[0;32mfor\u001b[0m \u001b[0mi\u001b[0m \u001b[0;32min\u001b[0m \u001b[0mrange\u001b[0m\u001b[0;34m(\u001b[0m\u001b[0;36m1\u001b[0m\u001b[0;34m,\u001b[0m\u001b[0;36m23\u001b[0m\u001b[0;34m)\u001b[0m\u001b[0;34m:\u001b[0m\u001b[0;34m\u001b[0m\u001b[0;34m\u001b[0m\u001b[0m\n\u001b[1;32m      2\u001b[0m     \u001b[0mpklfile\u001b[0m\u001b[0;34m=\u001b[0m\u001b[0mstr\u001b[0m\u001b[0;34m(\u001b[0m\u001b[0;34m'SUB'\u001b[0m\u001b[0;34m+\u001b[0m\u001b[0mstr\u001b[0m\u001b[0;34m(\u001b[0m\u001b[0mi\u001b[0m\u001b[0;34m)\u001b[0m \u001b[0;34m+\u001b[0m \u001b[0;34m'_lesion1mm_nemo_output_chacoconn_fs86avg_allref_denom.pkl'\u001b[0m\u001b[0;34m)\u001b[0m\u001b[0;34m\u001b[0m\u001b[0;34m\u001b[0m\u001b[0m\n\u001b[0;32m----> 3\u001b[0;31m     \u001b[0mdata\u001b[0m\u001b[0;34m=\u001b[0m\u001b[0mpickle\u001b[0m\u001b[0;34m.\u001b[0m\u001b[0mload\u001b[0m\u001b[0;34m(\u001b[0m\u001b[0mopen\u001b[0m\u001b[0;34m(\u001b[0m\u001b[0mpklfile\u001b[0m\u001b[0;34m,\u001b[0m\u001b[0;34m\"rb\"\u001b[0m\u001b[0;34m)\u001b[0m\u001b[0;34m)\u001b[0m\u001b[0;34m\u001b[0m\u001b[0;34m\u001b[0m\u001b[0m\n\u001b[0m\u001b[1;32m      4\u001b[0m     \u001b[0mallref\u001b[0m\u001b[0;34m=\u001b[0m\u001b[0mnp\u001b[0m\u001b[0;34m.\u001b[0m\u001b[0mstack\u001b[0m\u001b[0;34m(\u001b[0m\u001b[0;34m[\u001b[0m\u001b[0mx\u001b[0m\u001b[0;34m.\u001b[0m\u001b[0mtoarray\u001b[0m\u001b[0;34m(\u001b[0m\u001b[0;34m)\u001b[0m \u001b[0;32mfor\u001b[0m \u001b[0mx\u001b[0m \u001b[0;32min\u001b[0m \u001b[0mdata\u001b[0m\u001b[0;34m]\u001b[0m\u001b[0;34m,\u001b[0m\u001b[0maxis\u001b[0m\u001b[0;34m=\u001b[0m\u001b[0;36m2\u001b[0m\u001b[0;34m)\u001b[0m \u001b[0;31m#creates an ROIxROIx420 3D matrix\u001b[0m\u001b[0;34m\u001b[0m\u001b[0;34m\u001b[0m\u001b[0m\n\u001b[1;32m      5\u001b[0m     \u001b[0msavemat\u001b[0m\u001b[0;34m(\u001b[0m\u001b[0mpklfile\u001b[0m\u001b[0;34m.\u001b[0m\u001b[0mreplace\u001b[0m\u001b[0;34m(\u001b[0m\u001b[0;34m\".pkl\"\u001b[0m\u001b[0;34m,\u001b[0m\u001b[0;34m\".mat\"\u001b[0m\u001b[0;34m)\u001b[0m\u001b[0;34m,\u001b[0m\u001b[0;34m{\u001b[0m\u001b[0;34m\"allref\"\u001b[0m\u001b[0;34m:\u001b[0m\u001b[0mallref\u001b[0m\u001b[0;34m}\u001b[0m\u001b[0;34m)\u001b[0m\u001b[0;34m\u001b[0m\u001b[0;34m\u001b[0m\u001b[0m\n",
      "\u001b[0;31mFileNotFoundError\u001b[0m: [Errno 2] No such file or directory: 'SUB1_lesion1mm_nemo_output_chacoconn_fs86avg_allref_denom.pkl'"
     ]
    }
   ],
   "source": [
    "for i in range(1,23):\n",
    "    pklfile=str('SUB'+str(i) + '_lesion1mm_nemo_output_chacoconn_fs86avg_allref_denom.pkl')\n",
    "    data=pickle.load(open(pklfile,\"rb\"))\n",
    "    allref=np.stack([x.toarray() for x in data],axis=2) #creates an ROIxROIx420 3D matrix\n",
    "    savemat(pklfile.replace(\".pkl\",\".mat\"),{\"allref\":allref})"
   ]
  },
  {
   "cell_type": "code",
   "execution_count": 6,
   "metadata": {},
   "outputs": [
    {
     "name": "stdout",
     "output_type": "stream",
     "text": [
      "/Users/emilyolafson/GIT/fc-from-sc\n"
     ]
    }
   ],
   "source": [
    "cwd = os.getcwd()\n",
    "print(cwd)"
   ]
  }
 ],
 "metadata": {
  "kernelspec": {
   "display_name": "Python 3",
   "language": "python",
   "name": "python3"
  },
  "language_info": {
   "codemirror_mode": {
    "name": "ipython",
    "version": 3
   },
   "file_extension": ".py",
   "mimetype": "text/x-python",
   "name": "python",
   "nbconvert_exporter": "python",
   "pygments_lexer": "ipython3",
   "version": "3.8.5"
  }
 },
 "nbformat": 4,
 "nbformat_minor": 4
}
